{
 "cells": [
  {
   "cell_type": "code",
   "execution_count": 1,
   "id": "485dd58a-b798-43e5-8da5-f547e3ab2e7e",
   "metadata": {},
   "outputs": [],
   "source": [
    "import numpy as np"
   ]
  },
  {
   "cell_type": "markdown",
   "id": "d6901b05-789c-4d71-a1d5-ea62c41837a0",
   "metadata": {},
   "source": [
    "## Penguins"
   ]
  },
  {
   "cell_type": "code",
   "execution_count": 2,
   "id": "8c6395e4-91dd-4d76-b35c-3f32067bf199",
   "metadata": {},
   "outputs": [],
   "source": [
    "anfispy_acc = np.load('data/anfispy_acc_penguins.npy')\n",
    "anfispy_time = np.load('data/anfispy_time_penguins.npy')\n",
    "anfispy_f1 = np.load('data/anfispy_f1_penguins.npy')\n",
    "anfispy_inference = np.load('data/anfispy_inference_penguins.npy')\n",
    "\n",
    "skanfis_hybrid_acc = np.load('data/skanfis_hybrid_acc_penguins.npy')\n",
    "skanfis_hybrid_time = np.load('data/skanfis_hybrid_time_penguins.npy')\n",
    "skanfis_hybrid_f1 = np.load('data/skanfis_hybrid_f1_penguins.npy')\n",
    "skanfis_hybrid_inference = np.load('data/skanfis_hybrid_inference_penguins.npy')\n",
    "\n",
    "skanfis_online_acc = np.load('data/skanfis_online_acc_penguins.npy')\n",
    "skanfis_online_time = np.load('data/skanfis_online_time_penguins.npy')\n",
    "skanfis_online_f1 = np.load('data/skanfis_online_f1_penguins.npy')\n",
    "skanfis_online_inference = np.load('data/skanfis_online_inference_penguins.npy')"
   ]
  },
  {
   "cell_type": "code",
   "execution_count": 3,
   "id": "9e2fda82-4a39-46f9-b0ca-748beccc490f",
   "metadata": {},
   "outputs": [
    {
     "name": "stdout",
     "output_type": "stream",
     "text": [
      "\n",
      "--- ANFISpy ---\n",
      "Training Time:  2.4657 ± 0.1195 s\n",
      "Inference Time: 0.0006 ± 0.0000 s\n",
      "Acc:            0.9759 ± 0.0181\n",
      "F1:             0.9754 ± 0.0183\n"
     ]
    }
   ],
   "source": [
    "print(\"\\n--- ANFISpy ---\")\n",
    "print(f\"Training Time:  {anfispy_time.mean():.4f} ± {anfispy_time.std():.4f} s\")\n",
    "print(f\"Inference Time: {anfispy_inference.mean():.4f} ± {anfispy_inference.std():.4f} s\")\n",
    "print(f\"Acc:            {anfispy_acc.mean():.4f} ± {anfispy_acc.std():.4f}\")\n",
    "print(f\"F1:             {anfispy_f1.mean():.4f} ± {anfispy_f1.std():.4f}\")"
   ]
  },
  {
   "cell_type": "code",
   "execution_count": 4,
   "id": "f04cbc08-a7de-43ba-abcb-0235cfbc2df1",
   "metadata": {},
   "outputs": [
    {
     "name": "stdout",
     "output_type": "stream",
     "text": [
      "\n",
      "--- SkANFIS (Hybrid) ---\n",
      "Training Time:  2.5239 ± 0.1391 s\n",
      "Inference Time: 0.0112 ± 0.0131 s\n",
      "Acc:            0.9398 ± 0.0353\n",
      "F1:             0.9398 ± 0.0384\n"
     ]
    }
   ],
   "source": [
    "print(\"\\n--- SkANFIS (Hybrid) ---\")\n",
    "print(f\"Training Time:  {skanfis_hybrid_time.mean():.4f} ± {skanfis_hybrid_time.std():.4f} s\")\n",
    "print(f\"Inference Time: {skanfis_hybrid_inference.mean():.4f} ± {skanfis_hybrid_inference.std():.4f} s\")\n",
    "print(f\"Acc:            {skanfis_hybrid_acc.mean():.4f} ± {skanfis_hybrid_acc.std():.4f}\")\n",
    "print(f\"F1:             {skanfis_hybrid_f1.mean():.4f} ± {skanfis_hybrid_f1.std():.4f}\")"
   ]
  },
  {
   "cell_type": "code",
   "execution_count": 5,
   "id": "2391579b-768a-4c60-8255-730becc2abec",
   "metadata": {},
   "outputs": [
    {
     "name": "stdout",
     "output_type": "stream",
     "text": [
      "\n",
      "--- SkANFIS (Online) ---\n",
      "Training Time:  1.6615 ± 0.9544 s\n",
      "Inference Time: 0.0042 ± 0.0005 s\n",
      "Acc:            0.9731 ± 0.0207\n",
      "F1:             0.9729 ± 0.0206\n"
     ]
    }
   ],
   "source": [
    "print(\"\\n--- SkANFIS (Online) ---\")\n",
    "print(f\"Training Time:  {skanfis_online_time.mean():.4f} ± {skanfis_online_time.std():.4f} s\")\n",
    "print(f\"Inference Time: {skanfis_online_inference.mean():.4f} ± {skanfis_online_inference.std():.4f} s\")\n",
    "print(f\"Acc:            {skanfis_online_acc.mean():.4f} ± {skanfis_online_acc.std():.4f}\")\n",
    "print(f\"F1:             {skanfis_online_f1.mean():.4f} ± {skanfis_online_f1.std():.4f}\")"
   ]
  },
  {
   "cell_type": "markdown",
   "id": "176743c7-b3dd-45f0-ad34-23875ceb0322",
   "metadata": {},
   "source": [
    "## Sinc"
   ]
  },
  {
   "cell_type": "code",
   "execution_count": 6,
   "id": "2bda2ff5-87b0-4d98-887d-078fd3f993f6",
   "metadata": {},
   "outputs": [],
   "source": [
    "anfispy_rmse = np.load('data/anfispy_rmse_sinc.npy')\n",
    "anfispy_time = np.load('data/anfispy_time_sinc.npy')\n",
    "anfispy_mae = np.load('data/anfispy_mae_sinc.npy')\n",
    "anfispy_inference = np.load('data/anfispy_inference_sinc.npy')\n",
    "\n",
    "skanfis_hybrid_rmse = np.load('data/skanfis_rmse_sinc.npy')\n",
    "skanfis_hybrid_time = np.load('data/skanfis_time_sinc.npy')\n",
    "skanfis_hybrid_mae = np.load('data/skanfis_mae_sinc.npy')\n",
    "skanfis_hybrid_inference = np.load('data/skanfis_inference_sinc.npy')\n",
    "\n",
    "skanfis_online_rmse = np.load('data/skanfis_online_rmse_sinc.npy')\n",
    "skanfis_online_time = np.load('data/skanfis_online_time_sinc.npy')\n",
    "skanfis_online_mae = np.load('data/skanfis_online_mae_sinc.npy')\n",
    "skanfis_online_inference = np.load('data/skanfis_online_inference_sinc.npy')"
   ]
  },
  {
   "cell_type": "code",
   "execution_count": 7,
   "id": "5daf85da-8ec2-444c-ad10-aca90e8a5efb",
   "metadata": {},
   "outputs": [
    {
     "name": "stdout",
     "output_type": "stream",
     "text": [
      "\n",
      "--- ANFISpy ---\n",
      "Training Time:  86.3953 ± 0.4343 s\n",
      "Inference Time: 0.0007 ± 0.0000 s\n",
      "RMSE:           0.0427 ± 0.0201\n",
      "MAE:            0.0271 ± 0.0148\n"
     ]
    }
   ],
   "source": [
    "print(\"\\n--- ANFISpy ---\")\n",
    "print(f\"Training Time:  {anfispy_time.mean():.4f} ± {anfispy_time.std():.4f} s\")\n",
    "print(f\"Inference Time: {anfispy_inference.mean():.4f} ± {anfispy_inference.std():.4f} s\")\n",
    "print(f\"RMSE:           {anfispy_rmse.mean():.4f} ± {anfispy_rmse.std():.4f}\")\n",
    "print(f\"MAE:            {anfispy_mae.mean():.4f} ± {anfispy_mae.std():.4f}\")"
   ]
  },
  {
   "cell_type": "code",
   "execution_count": 8,
   "id": "7109750e-aab0-4f61-a7d8-4670b6ec7e29",
   "metadata": {},
   "outputs": [
    {
     "name": "stdout",
     "output_type": "stream",
     "text": [
      "\n",
      "--- SkANFIS (Hybrid) ---\n",
      "Training Time:  185.7120 ± 13.2870 s\n",
      "Inference Time: 0.0084 ± 0.0115 s\n",
      "RMSE:           0.2094 ± 0.0102\n",
      "MAE:            0.1697 ± 0.0033\n"
     ]
    }
   ],
   "source": [
    "print(\"\\n--- SkANFIS (Hybrid) ---\")\n",
    "print(f\"Training Time:  {skanfis_hybrid_time.mean():.4f} ± {skanfis_hybrid_time.std():.4f} s\")\n",
    "print(f\"Inference Time: {skanfis_hybrid_inference.mean():.4f} ± {skanfis_hybrid_inference.std():.4f} s\")\n",
    "print(f\"RMSE:           {skanfis_hybrid_rmse.mean():.4f} ± {skanfis_hybrid_rmse.std():.4f}\")\n",
    "print(f\"MAE:            {skanfis_hybrid_mae.mean():.4f} ± {skanfis_hybrid_mae.std():.4f}\")"
   ]
  },
  {
   "cell_type": "code",
   "execution_count": 9,
   "id": "f982151f-4b2c-4ba9-a849-99923831b23d",
   "metadata": {},
   "outputs": [
    {
     "name": "stdout",
     "output_type": "stream",
     "text": [
      "\n",
      "--- SkANFIS (Online) ---\n",
      "Training Time:  2.1568 ± 1.7950 s\n",
      "Inference Time: 0.0045 ± 0.0021 s\n",
      "RMSE:           0.1099 ± 0.0043\n",
      "MAE:            0.0746 ± 0.0063\n"
     ]
    }
   ],
   "source": [
    "print(\"\\n--- SkANFIS (Online) ---\")\n",
    "print(f\"Training Time:  {skanfis_online_time.mean():.4f} ± {skanfis_online_time.std():.4f} s\")\n",
    "print(f\"Inference Time: {skanfis_online_inference.mean():.4f} ± {skanfis_online_inference.std():.4f} s\")\n",
    "print(f\"RMSE:           {skanfis_online_rmse.mean():.4f} ± {skanfis_online_rmse.std():.4f}\")\n",
    "print(f\"MAE:            {skanfis_online_mae.mean():.4f} ± {skanfis_online_mae.std():.4f}\")"
   ]
  }
 ],
 "metadata": {
  "kernelspec": {
   "display_name": "Python 3 (ipykernel)",
   "language": "python",
   "name": "python3"
  },
  "language_info": {
   "codemirror_mode": {
    "name": "ipython",
    "version": 3
   },
   "file_extension": ".py",
   "mimetype": "text/x-python",
   "name": "python",
   "nbconvert_exporter": "python",
   "pygments_lexer": "ipython3",
   "version": "3.10.8"
  }
 },
 "nbformat": 4,
 "nbformat_minor": 5
}
